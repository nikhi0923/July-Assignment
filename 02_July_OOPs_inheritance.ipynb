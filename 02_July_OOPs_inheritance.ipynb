{
 "cells": [
  {
   "cell_type": "markdown",
   "id": "1b27b702",
   "metadata": {},
   "source": [
    "Inheritance is one of the concept in OOPs.\n",
    "Inheritance is something which inherits properties from another class(base class)\n",
    "\n",
    "car = Car(\"Toyota\", \"Corolla\", 4)\n",
    "motorcycle = Motorcycle(\"Harley-Davidson\", \"Sportster\", True)\n",
    "\n",
    "print(car.display_info())        \n",
    "print(motorcycle.display_info()) \n"
   ]
  },
  {
   "cell_type": "markdown",
   "id": "e9fac44c",
   "metadata": {},
   "source": [
    "Single inheritance refers to a type of inheritance relationship in object-oriented programming\n",
    "where a subclass (derived class) inherits from only one superclass (base class).\n",
    "\n",
    "Advantages of single inheritance:\n",
    "1.Simplicity: The class hierarchy is easier to understand since there is only one parent class to consider. This can lead to more manageable and maintainable code.\n",
    "\n",
    "2.Avoiding Diamond Problem: The diamond problem is a potential issue that arises in multiple inheritance when a class inherits from two classes that have a common superclass. In single inheritance, this problem is avoided, as each class has only one parent.\n",
    "\n",
    "3.Clear Hierarchy: Single inheritance often leads to a straightforward and intuitive hierarchy, making it easier to design and implement the relationships between classes.\n",
    "\n",
    "Multiple Inheritance:\n",
    "\n",
    "Definition: Multiple inheritance is an inheritance model where a class can inherit attributes and behaviors from multiple superclasses (base classes). A class can extend the functionality of multiple parent classes.\n",
    "\n",
    "Advantages of Multiple Inheritance:\n",
    "\n",
    "Code Reusability: Multiple inheritance enables a class to inherit functionality from multiple sources, promoting efficient code reuse.\n",
    "Flexibility: It allows developers to model more complex relationships and mix different sets of behaviors from multiple parent classes.\n",
    "Richer Functionality: With multiple inheritance, a class can combine attributes and methods from different sources, resulting in a more feature-rich subclass.\n",
    "\n",
    "Differences:\n",
    "\n",
    "Number of Parent Classes:\n",
    "\n",
    "Single Inheritance: A class inherits from only one parent class.\n",
    "Multiple Inheritance: A class can inherit from multiple parent classes.\n",
    "Hierarchy Structure:\n",
    "\n",
    "Single Inheritance: The hierarchy is linear, with each class having a single parent class.\n",
    "Multiple Inheritance: The hierarchy can become more complex, as a class can have multiple parent classes.\n",
    "Method and Attribute Resolution:\n",
    "\n",
    "Single Inheritance: Method and attribute resolution is generally straightforward, as there is only one source to consider.\n",
    "Multiple Inheritance: Method and attribute resolution can be more complex, especially when there are name conflicts between parent classes."
   ]
  },
  {
   "cell_type": "code",
   "execution_count": 5,
   "id": "385439fa",
   "metadata": {},
   "outputs": [
    {
     "name": "stdout",
     "output_type": "stream",
     "text": [
      "Displaying content on screen\n",
      "Playing sound through speakers\n",
      "Interacting with the smart device\n"
     ]
    }
   ],
   "source": [
    "#Single inheritance\n",
    "class Animal:\n",
    "    def speak(self):\n",
    "        pass\n",
    "\n",
    "class Dog(Animal):\n",
    "    def speak(self):\n",
    "        return \"Woof!\"\n",
    "\n",
    "class Cat(Animal):\n",
    "    def speak(self):\n",
    "        return \"Meow!\"\n",
    "    \n",
    "    \n",
    "#Multiple inheritance   \n",
    "\n",
    "class Screen:\n",
    "    def display(self):\n",
    "        return \"Displaying content on screen\"\n",
    "\n",
    "class Speaker:\n",
    "    def play_sound(self):\n",
    "        return \"Playing sound through speakers\"\n",
    "\n",
    "class SmartDevice(Screen, Speaker):\n",
    "    def interact(self):\n",
    "        return \"Interacting with the smart device\"\n",
    "\n",
    "# Create an instance of SmartDevice\n",
    "smartphone = SmartDevice()\n",
    "\n",
    "# Access methods from both Screen and Speaker classes\n",
    "print(smartphone.display())      # Output: Displaying content on screen\n",
    "print(smartphone.play_sound())   # Output: Playing sound through speakers\n",
    "print(smartphone.interact())     # Output: Interacting with the smart device\n"
   ]
  },
  {
   "cell_type": "markdown",
   "id": "51cd86eb",
   "metadata": {},
   "source": [
    "3.Base Class:\n",
    "A base class, also known as a parent class or superclass, is a class that serves as the foundation for other classes.\n",
    "It defines a set of common attributes and behaviors that can be inherited by other classes.\n",
    "\n",
    "Derived Class:\n",
    "A derived class, also known as a child class or subclass, is a class that is created by inheriting from a base class. The derived class inherits all the attributes and behaviors (properties and methods) of the base class and can also have its own additional attributes and behaviors. It can override or extend the methods of the base class to provide specialized functionality.\n",
    "\n",
    "a base class is a foundational class that defines common attributes and behaviors, while a derived class is a class that inherits from the base class, inheriting its properties and methods while also having the ability to add its own unique properties and methods."
   ]
  },
  {
   "cell_type": "markdown",
   "id": "4b7db357",
   "metadata": {},
   "source": [
    "4.Private Access Modifier:\n",
    "Members marked as \"private\" are only accessible within the class that defines them. \n",
    "They cannot be accessed or modified directly from outside the class, including derived classes. \n",
    "This provides a high level of encapsulation, ensuring that the internal details of a class are hidden from external code.\n",
    "\n",
    "Protected Access Modifier:\n",
    "Members marked as \"protected\" are accessible within the class that defines them and within any derived classes. \n",
    "This means that derived classes can access and modify protected members inherited from the base class. \n",
    "\n",
    "Public Access Modifier:\n",
    "Members marked as \"public\" are accessible from anywhere, both within the class that defines them and from any external code. They have the least restrictive access, and their details are fully exposed to other classes and code.\n",
    "\n",
    "By using these access modifiers appropriately, we can control the level of visibility and interaction between classes in our inheritance hierarchy, promoting encapsulation and maintaining the integrity of our code."
   ]
  },
  {
   "cell_type": "markdown",
   "id": "6c8269b6",
   "metadata": {},
   "source": [
    "5.super() keyword is used to call methods and access attributes of a parent or base class within a derived or child class. It provides a way to explicitly reference and invoke the methods and attributes of the parent class, \n",
    "enabling to customize behavior in the derived class while reusing and extending functionality from the parent class."
   ]
  },
  {
   "cell_type": "code",
   "execution_count": 6,
   "id": "78678184",
   "metadata": {},
   "outputs": [
    {
     "name": "stdout",
     "output_type": "stream",
     "text": [
      "Hello, I'm Alice from the Parent class and I'm 10 years old\n"
     ]
    }
   ],
   "source": [
    "class Parent:\n",
    "    def __init__(self, name):\n",
    "        self.name = name\n",
    "\n",
    "    def greet(self):\n",
    "        return f\"Hello, I'm {self.name} from the Parent class\"\n",
    "\n",
    "class Child(Parent):\n",
    "    def __init__(self, name, age):\n",
    "        super().__init__(name)  # Call the constructor of the parent class\n",
    "        self.age = age\n",
    "\n",
    "    def greet(self):\n",
    "        parent_greeting = super().greet()  # Call the greet() method of the parent class\n",
    "        return f\"{parent_greeting} and I'm {self.age} years old\"\n",
    "\n",
    "# Create an instance of the Child class\n",
    "child_instance = Child(\"Alice\", 10)\n",
    "\n",
    "# Call the overridden greet() method of the Child class\n",
    "print(child_instance.greet())\n"
   ]
  },
  {
   "cell_type": "code",
   "execution_count": 8,
   "id": "d0986723",
   "metadata": {},
   "outputs": [
    {
     "name": "stdout",
     "output_type": "stream",
     "text": [
      "Vehicle Information:\n",
      "2022 Toyota Camry\n",
      "\n",
      "Car Information:\n",
      "2023 Tesla Model 3, Fuel Type: Electric\n"
     ]
    }
   ],
   "source": [
    "#6\n",
    "\n",
    "class Vehicle:\n",
    "    def __init__(self, make, model, year):\n",
    "        self.make = make\n",
    "        self.model = model\n",
    "        self.year = year\n",
    "\n",
    "    def display_info(self):\n",
    "        return f\"{self.year} {self.make} {self.model}\"\n",
    "\n",
    "class Car(Vehicle):\n",
    "    def __init__(self, make, model, year, fuel_type):\n",
    "        super().__init__(make, model, year)\n",
    "        self.fuel_type = fuel_type\n",
    "\n",
    "    def display_info(self):\n",
    "        base_info = super().display_info()  # Call the base class method\n",
    "        return f\"{base_info}, Fuel Type: {self.fuel_type}\"\n",
    "\n",
    "# Creating instances of the classes\n",
    "vehicle_instance = Vehicle(\"Toyota\", \"Camry\", 2022)\n",
    "car_instance = Car(\"Tesla\", \"Model 3\", 2023, \"Electric\")\n",
    "\n",
    "# Displaying information using the methods\n",
    "print(\"Vehicle Information:\")\n",
    "print(vehicle_instance.display_info())\n",
    "\n",
    "print(\"\\nCar Information:\")\n",
    "print(car_instance.display_info())\n"
   ]
  },
  {
   "cell_type": "code",
   "execution_count": 9,
   "id": "a34f7fa5",
   "metadata": {},
   "outputs": [
    {
     "name": "stdout",
     "output_type": "stream",
     "text": [
      "Manager Information:\n",
      "Name: Alice, Salary: 80000, Department: Engineering\n",
      "\n",
      "Developer Information:\n",
      "Name: Bob, Salary: 60000, Programming Language: Python\n"
     ]
    }
   ],
   "source": [
    "#7\n",
    "class Employee:\n",
    "    def __init__(self, name, salary):\n",
    "        self.name = name\n",
    "        self.salary = salary\n",
    "\n",
    "    def display_info(self):\n",
    "        return f\"Name: {self.name}, Salary: {self.salary}\"\n",
    "\n",
    "class Manager(Employee):\n",
    "    def __init__(self, name, salary, department):\n",
    "        super().__init__(name, salary)\n",
    "        self.department = department\n",
    "\n",
    "    def display_info(self):\n",
    "        base_info = super().display_info()  # Call the base class method\n",
    "        return f\"{base_info}, Department: {self.department}\"\n",
    "\n",
    "class Developer(Employee):\n",
    "    def __init__(self, name, salary, programming_language):\n",
    "        super().__init__(name, salary)\n",
    "        self.programming_language = programming_language\n",
    "\n",
    "    def display_info(self):\n",
    "        base_info = super().display_info()  # Call the base class method\n",
    "        return f\"{base_info}, Programming Language: {self.programming_language}\"\n",
    "\n",
    "# Creating instances of the classes\n",
    "manager_instance = Manager(\"Alice\", 80000, \"Engineering\")\n",
    "developer_instance = Developer(\"Bob\", 60000, \"Python\")\n",
    "\n",
    "# Displaying information using the methods\n",
    "print(\"Manager Information:\")\n",
    "print(manager_instance.display_info())\n",
    "\n",
    "print(\"\\nDeveloper Information:\")\n",
    "print(developer_instance.display_info())\n"
   ]
  },
  {
   "cell_type": "code",
   "execution_count": 11,
   "id": "d37c3330",
   "metadata": {},
   "outputs": [
    {
     "name": "stdout",
     "output_type": "stream",
     "text": [
      "Rectangle Information:\n",
      "Colour: Blue, Border Width: 2, Length: 10, Width: 5\n",
      "\n",
      "Circle Information:\n",
      "Colour: Red, Border Width: 1, Radius: 7\n"
     ]
    }
   ],
   "source": [
    "#8\n",
    "class Shape:\n",
    "    def __init__(self, colour, border_width):\n",
    "        self.colour = colour\n",
    "        self.border_width = border_width\n",
    "\n",
    "    def display_info(self):\n",
    "        return f\"Colour: {self.colour}, Border Width: {self.border_width}\"\n",
    "\n",
    "class Rectangle(Shape):\n",
    "    def __init__(self, colour, border_width, length, width):\n",
    "        super().__init__(colour, border_width)\n",
    "        self.length = length\n",
    "        self.width = width\n",
    "\n",
    "    def display_info(self):\n",
    "        base_info = super().display_info()  # Call the base class method\n",
    "        return f\"{base_info}, Length: {self.length}, Width: {self.width}\"\n",
    "\n",
    "class Circle(Shape):\n",
    "    def __init__(self, colour, border_width, radius):\n",
    "        super().__init__(colour, border_width)\n",
    "        self.radius = radius\n",
    "\n",
    "    def display_info(self):\n",
    "        base_info = super().display_info()  # Call the base class method\n",
    "        return f\"{base_info}, Radius: {self.radius}\"\n",
    "\n",
    "# Creating instances of the classes\n",
    "rectangle_instance = Rectangle(\"Blue\", 2, 10, 5)\n",
    "circle_instance = Circle(\"Red\", 1, 7)\n",
    "\n",
    "# Displaying information using the methods\n",
    "print(\"Rectangle Information:\")\n",
    "print(rectangle_instance.display_info())\n",
    "\n",
    "print(\"\\nCircle Information:\")\n",
    "print(circle_instance.display_info())\n"
   ]
  },
  {
   "cell_type": "code",
   "execution_count": 12,
   "id": "1538f03d",
   "metadata": {},
   "outputs": [
    {
     "name": "stdout",
     "output_type": "stream",
     "text": [
      "Phone: Apple iPhone 13, Screen Size: 6.1 inches\n",
      "Tablet: Samsung Galaxy Tab S7, Battery Capacity: 8000 mAh\n"
     ]
    }
   ],
   "source": [
    "#9\n",
    "class Device:\n",
    "    def __init__(self, brand, model):\n",
    "        self.brand = brand\n",
    "        self.model = model\n",
    "\n",
    "class Phone(Device):\n",
    "    def __init__(self, brand, model, screen_size):\n",
    "        super().__init__(brand, model)\n",
    "        self.screen_size = screen_size\n",
    "\n",
    "class Tablet(Device):\n",
    "    def __init__(self, brand, model, battery_capacity):\n",
    "        super().__init__(brand, model)\n",
    "        self.battery_capacity = battery_capacity\n",
    "\n",
    "# Creating instances of the classes\n",
    "phone1 = Phone(\"Apple\", \"iPhone 13\", 6.1)\n",
    "tablet1 = Tablet(\"Samsung\", \"Galaxy Tab S7\", 8000)\n",
    "\n",
    "# Accessing attributes\n",
    "print(f\"Phone: {phone1.brand} {phone1.model}, Screen Size: {phone1.screen_size} inches\")\n",
    "print(f\"Tablet: {tablet1.brand} {tablet1.model}, Battery Capacity: {tablet1.battery_capacity} mAh\")\n"
   ]
  },
  {
   "cell_type": "code",
   "execution_count": 13,
   "id": "ba83e6f1",
   "metadata": {},
   "outputs": [
    {
     "name": "stdout",
     "output_type": "stream",
     "text": [
      "Savings Account: Account Number 123456, Balance: $1000, Interest: $25.00\n",
      "Checking Account: Account Number 987654, Balance: $4995.0\n"
     ]
    }
   ],
   "source": [
    "#10\n",
    "\n",
    "class BankAccount:\n",
    "    def __init__(self, account_number, balance):\n",
    "        self.account_number = account_number\n",
    "        self.balance = balance\n",
    "\n",
    "class SavingsAccount(BankAccount):\n",
    "    def __init__(self, account_number, balance, interest_rate):\n",
    "        super().__init__(account_number, balance)\n",
    "        self.interest_rate = interest_rate\n",
    "    \n",
    "    def calculate_interest(self):\n",
    "        interest = self.balance * (self.interest_rate / 100)\n",
    "        return interest\n",
    "\n",
    "class CheckingAccount(BankAccount):\n",
    "    def __init__(self, account_number, balance, fee_per_transaction):\n",
    "        super().__init__(account_number, balance)\n",
    "        self.fee_per_transaction = fee_per_transaction\n",
    "    \n",
    "    def deduct_fees(self, num_transactions):\n",
    "        total_fees = self.fee_per_transaction * num_transactions\n",
    "        self.balance -= total_fees\n",
    "\n",
    "# Creating instances of the classes\n",
    "savings_acc = SavingsAccount(\"123456\", 1000, 2.5)\n",
    "checking_acc = CheckingAccount(\"987654\", 5000, 1.0)\n",
    "\n",
    "# Using methods of derived classes\n",
    "interest = savings_acc.calculate_interest()\n",
    "print(f\"Savings Account: Account Number {savings_acc.account_number}, Balance: ${savings_acc.balance}, Interest: ${interest:.2f}\")\n",
    "\n",
    "checking_acc.deduct_fees(5)\n",
    "print(f\"Checking Account: Account Number {checking_acc.account_number}, Balance: ${checking_acc.balance}\")\n",
    "\n"
   ]
  },
  {
   "cell_type": "code",
   "execution_count": null,
   "id": "0736f09f",
   "metadata": {},
   "outputs": [],
   "source": []
  }
 ],
 "metadata": {
  "kernelspec": {
   "display_name": "Python 3 (ipykernel)",
   "language": "python",
   "name": "python3"
  },
  "language_info": {
   "codemirror_mode": {
    "name": "ipython",
    "version": 3
   },
   "file_extension": ".py",
   "mimetype": "text/x-python",
   "name": "python",
   "nbconvert_exporter": "python",
   "pygments_lexer": "ipython3",
   "version": "3.10.9"
  }
 },
 "nbformat": 4,
 "nbformat_minor": 5
}
